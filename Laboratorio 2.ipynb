{
 "cells": [
  {
   "cell_type": "markdown",
   "metadata": {},
   "source": [
    "<table style=\"width:100%\">\n",
    "  <tr>\n",
    "    <th align=\"right\"><img src=\"img/dilogo.png\" style=\"float:left;height:90px\"></th>\n",
    "    <th align=\"center\">\n",
    "    <h1 align=\"center\">Laboratorio 2</h1>\n",
    "    <h2 align=\"center\">Profesor: Ricardo Ñanculef</h2>\n",
    "    <h3 align=\"center\">Ayudante: Gabriel Ortega</h3>\n",
    "    <h3 align=\"center\">Alumno1;rol;malla</h3>\n",
    "    <h3 align=\"center\">Alumno2;rol;malla</h3>\n",
    "    <h3 align=\"center\">Septiembre de 2019</h3>\n",
    "    </th> \n",
    "    <th align=\"left\"><img src=\"img/usmlogo.png\" style=\"float:right;height:85px\"></th>\n",
    "  </tr>"
   ]
  },
  {
   "cell_type": "markdown",
   "metadata": {},
   "source": [
    "> <font size = \"+2\"><b>Antes de corregir se correrá su notebook utilizando la función Cell $\\rightarrow$ Run All.</b> <br> <br>\n",
    "Es posible que las simulaciones en este laboratorio se tarden un poco más en ejecutarse, sin embargo, mantenga un tope de 5 minutos.\n",
    "</font>\n",
    "\n",
    "\n",
    "## Instrucciones\n",
    "\n",
    "La modalidad de trabajo será mediante el uso de jupyter notebook. El notebook debe ser desarrollado en parejas o individual y ser entregado el 15 de octubre de 2019.\n",
    "\n",
    "La **modalidad de entrega será un archivo Apellido1_Apellido2_Lab2.zip** que contenga un notebook que incluya todas las preguntas con sus respectivas respuestas, un README que indique la forma correcta de ejecutar su notebook y cualquier archivo/carpeta extra que considere necesario para el correcto funcionamiento de su tarea (no es necesario adjuntar los .csv que se utilicen para trabajar). El laboratorio puede ser trabajado tanto en lenguaje R como en python 3 (para los que usen python 2.X, absténganse a las consecuencias). Lea bien el enunciado.\n",
    "\n",
    "\n",
    "**Cualquier copia detectada implicará nota 0 en el laboratorio correspondiente y se notificará la situación al profesor.**\n",
    "\n",
    "\n"
   ]
  },
  {
   "cell_type": "markdown",
   "metadata": {},
   "source": [
    "## 1. La paradoja del cumpleaños\n",
    "\n",
    "La paradoja del cumpleaños es un problema matemático cuya respuesta es sorprendente dado el contexto del problema. En esta sección usted trabajará con este problema y podrá encontrar la respuesta que sorprendió a muchos. La paradoja es la siguiente: $N$ personas se reunen casualmente ¿Cuál es la probabilidad de que al menos 2 de ellas estén de cumpleaños el mismo día? **Considere año normal de 365 días.**\n",
    "\n",
    "> a) Plantee la obtención de esta probabilidad en función de N. *Hint:* $\\frac{Casos\\;favorables}{Casos\\;posibles}$\n"
   ]
  },
  {
   "cell_type": "code",
   "execution_count": 7,
   "metadata": {},
   "outputs": [],
   "source": [
    "def paradox(n):\n",
    "    \n",
    "    probabilidad_all_differents = 1\n",
    "    \n",
    "    for x in range(0,n):\n",
    "        probabilidad_all_differents = (365.0-x)/365.0 * probabilidad_all_differents \n",
    "    return 1 - probabilidad_all_differents\n",
    "\n",
    "\n"
   ]
  },
  {
   "cell_type": "markdown",
   "metadata": {},
   "source": [
    "* El programa anterior simula la siguiente función de probabilidad en función de el N, que representa la cantidad de personas en la reunión:\n",
    "\n",
    "* Con:\n",
    "\n",
    "$D = Cantidad\\;de\\;dias\\;de\\;un\\;año$\n",
    "\n",
    "* La funcion de probabilidad es\n",
    "\n",
    "$   \n",
    "f(N) = \n",
    "     \\begin{cases}\n",
    "       1-\\frac{D!}{(D)^N \\cdot (D\\;-\\;N)! } &\\quad\\text{Si }1\\leq\\text{N} \\leq365 \\\\\n",
    "       1 & \\text{etoc}\n",
    "     \\end{cases}\n",
    "$\n",
    "\n"
   ]
  },
  {
   "cell_type": "markdown",
   "metadata": {},
   "source": [
    "> b) Simule la paradoja del cumpleaños con varios $N \\in [2,365]$ y obtenga la probabilidad empírica de encontrar dos personas con el mismo cumpleaños. Luego haga un gráfico de estas probabilidades en función de $N$ y la fórmula obtenida en a) y compare. \n",
    "\n",
    "*Tip: Como el orden de ejecución es $N\\cdot Simulaciones$ no es necesario que vaya de 1 en 1 con los $N$ puede ir de 3 en 3, 5 en 5, etc.*"
   ]
  },
  {
   "cell_type": "code",
   "execution_count": 8,
   "metadata": {},
   "outputs": [
    {
     "data": {
      "image/png": "[encoded data removed]",
      "text/plain": [
       "<Figure size 1080x720 with 1 Axes>"
      ]
     },
     "metadata": {
      "needs_background": "light"
     },
     "output_type": "display_data"
    }
   ],
   "source": [
    "import pandas as pd\n",
    "import numpy as np\n",
    "import matplotlib.pyplot as plt\n",
    "import random\n",
    "import math\n",
    "\n",
    "%matplotlib inline\n",
    "def paradox(n):\n",
    "    \n",
    "    probabilidad_all_differents = 1\n",
    "    \n",
    "    for x in range(0,n):\n",
    "        probabilidad_all_differents = (365.0-x)/365.0 * probabilidad_all_differents \n",
    "    return 1 - probabilidad_all_differents\n",
    "\n",
    "\n",
    "probs = []\n",
    "\n",
    "cantidad_reunion = []\n",
    "\n",
    "teorica = []\n",
    "\n",
    "random.seed(3)\n",
    "\n",
    "for x in range(2,366):\n",
    "    unicos = [] # cantidad de fechas q se repiten\n",
    "    for i in range(0,1000):\n",
    "        i = 0\n",
    "        cumpleaños = {}\n",
    "        cump = np.random.choice(range(1,366),x)\n",
    "        if len(set(cump)) == len(cump):\n",
    "            unicos.append(1)\n",
    "        else:\n",
    "            unicos.append(0)\n",
    "    cantidad_reunion.append(x)\n",
    "    p_cant = sum(unicos)/len(unicos)\n",
    "\n",
    "    probs.append(1-p_cant)\n",
    "    teorica.append(paradox(x))\n",
    "\n",
    "creator = {\"Invitados\" : cantidad_reunion ,\"Probabilidad Simulación\" : probs,\"Probabilidad Teorica\" : teorica }\n",
    "\n",
    "df_invitados = pd.DataFrame(creator)\n",
    "\n",
    "fig, ax = plt.subplots(figsize=(15,10))\n",
    "\n",
    "plt.xlabel('Invitados')\n",
    "plt.ylabel('Probabilidad')\n",
    "plt.title('Grafico de Invitados vs Probabilidad')\n",
    "\n",
    "ax.plot(df[\"Invitados\"], df[\"Probabilidad Simulación\"], color = \"blue\")\n",
    "\n",
    "ax.plot(df[\"Invitados\"], df[\"Probabilidad Teorica\"] , color = \"red\")\n",
    "\n",
    "\n",
    "plt.show()\n",
    "\n",
    "\n",
    "    "
   ]
  },
  {
   "cell_type": "markdown",
   "metadata": {},
   "source": [
    ">c) Mediante simulación obtenga la cantidad de personas necesarias que debe asistir a la reunión para que la probabilidad de que al menos 2 personas estén de cumpleaños sea: 50%, 70% y 95%. Luego, para cada cantidad encontrada compare el valor de su probabilidad teórica mediante la fórmula que encontró en a). \n",
    "\n",
    "¿A qué se debe que al encontrar un valor empírico y evaluarlo en la fórmula de a) se observe un valor diferente que el encontrado? Si esto no le sucedió en su simulación, responda poniéndose en la siguiente situación:\n",
    "\n",
    "- Su simulación le arrojó que 30 es el 50%\n",
    "- F(30) es 0.45, claramente no llega al 50% (de ejemplo solamente)\n",
    "\n",
    "\n",
    "\n",
    "¿A qué se debe ese error?\n",
    "\n",
    "* Este error se debe netamente a que la simulación intenta realizar una aproximación del modelo matematico planteado,esta aproximacion es realizada con el metodo de montecarlo,esto a traves de la generación de N cumpleaños aleatorios en K reuniones con N invitados. Es por lo anterior que debe simularse K veces por cada N cantidad de invitados, ya que el comportamiento promedio en este caso nos proporcionara el valor simulado, mientras que el modelo analitico a partir de la función de probabilidad en a) depende unicamente de un calculo numerico con cada cantidad de N invitados.\n",
    "\n",
    "A continuación se muestran las probabilidades simuladas y teoricas para cada cantidad de invitados:"
   ]
  },
  {
   "cell_type": "code",
   "execution_count": 9,
   "metadata": {},
   "outputs": [
    {
     "name": "stdout",
     "output_type": "stream",
     "text": [
      "    Invitados  Probabilidad Simulación  Probabilidad Teorica\n",
      "0           2                    0.003              0.002740\n",
      "1           3                    0.008              0.008204\n",
      "2           4                    0.017              0.016356\n",
      "3           5                    0.031              0.027136\n",
      "4           6                    0.028              0.040462\n",
      "5           7                    0.063              0.056236\n",
      "6           8                    0.088              0.074335\n",
      "7           9                    0.091              0.094624\n",
      "8          10                    0.122              0.116948\n",
      "9          11                    0.157              0.141141\n",
      "10         12                    0.182              0.167025\n",
      "11         13                    0.183              0.194410\n",
      "12         14                    0.220              0.223103\n",
      "13         15                    0.268              0.252901\n",
      "14         16                    0.291              0.283604\n",
      "15         17                    0.303              0.315008\n",
      "16         18                    0.357              0.346911\n",
      "17         19                    0.411              0.379119\n",
      "18         20                    0.395              0.411438\n",
      "19         21                    0.450              0.443688\n",
      "20         22                    0.488              0.475695\n",
      "21         23                    0.517              0.507297\n",
      "22         24                    0.550              0.538344\n",
      "23         25                    0.574              0.568700\n",
      "24         26                    0.599              0.598241\n",
      "25         27                    0.638              0.626859\n",
      "26         28                    0.646              0.654461\n",
      "27         29                    0.678              0.680969\n",
      "28         30                    0.705              0.706316\n",
      "29         31                    0.737              0.730455\n",
      "30         32                    0.758              0.753348\n",
      "31         33                    0.781              0.774972\n",
      "32         34                    0.791              0.795317\n",
      "33         35                    0.812              0.814383\n",
      "34         36                    0.829              0.832182\n",
      "35         37                    0.851              0.848734\n",
      "36         38                    0.871              0.864068\n",
      "37         39                    0.876              0.878220\n",
      "38         40                    0.885              0.891232\n",
      "39         41                    0.903              0.903152\n",
      "40         42                    0.914              0.914030\n",
      "41         43                    0.919              0.923923\n",
      "42         44                    0.928              0.932885\n",
      "43         45                    0.947              0.940976\n",
      "44         46                    0.945              0.948253\n",
      "45         47                    0.952              0.954774\n",
      "46         48                    0.967              0.960598\n",
      "47         49                    0.969              0.965780\n",
      "48         50                    0.964              0.970374\n",
      "49         51                    0.973              0.974432\n",
      "50         52                    0.978              0.978005\n",
      "51         53                    0.976              0.981138\n",
      "52         54                    0.992              0.983877\n",
      "53         55                    0.989              0.986262\n",
      "54         56                    0.988              0.988332\n",
      "55         57                    0.985              0.990122\n",
      "56         58                    0.988              0.991665\n",
      "57         59                    0.995              0.992989\n",
      "58         60                    0.993              0.994123\n",
      "59         61                    0.999              0.995089\n"
     ]
    }
   ],
   "source": [
    "print (df_invitados.head(60))"
   ]
  },
  {
   "cell_type": "markdown",
   "metadata": {},
   "source": [
    ">d) Si ahora nos interesa cuando 3, 4, 5 y 6 personas están de cumpleaños el mismo día. Realice un gráfico similar al del inciso b) pero esta vez con $P_{i}$ en función de $N$ donde $i \\in [2,6]$ Concluya respecto al comportamiento de las gráficas."
   ]
  },
  {
   "cell_type": "code",
   "execution_count": 14,
   "metadata": {},
   "outputs": [
    {
     "data": {
      "image/png": "[encoded data removed]",
      "text/plain": [
       "<Figure size 1080x720 with 1 Axes>"
      ]
     },
     "metadata": {
      "needs_background": "light"
     },
     "output_type": "display_data"
    }
   ],
   "source": [
    "p3=[]\n",
    "p4=[]\n",
    "p5=[]\n",
    "p6=[]\n",
    "\n",
    "cantidad_reunion = []\n",
    "\n",
    "teorica = []\n",
    "\n",
    "random.seed(3)\n",
    "\n",
    "for x in range(2,366):\n",
    "    probs_3 = []\n",
    "    probs_4 = []\n",
    "    probs_5 = []\n",
    "    probs_6 = []\n",
    "    for i in range(0,1000):\n",
    "        i = 0\n",
    "        cumpleaños = {}\n",
    "        cump = np.random.choice(range(1,366),x)\n",
    "        for fecha in cump:\n",
    "            if fecha in cumpleaños:\n",
    "                cumpleaños[fecha] += 1\n",
    "            else:\n",
    "                cumpleaños[fecha] = 1\n",
    "        if 6 in cumpleaños.values():\n",
    "            probs_6.append(1)\n",
    "        else:\n",
    "            probs_6.append(0)\n",
    "        if 5 in cumpleaños.values():\n",
    "            probs_5.append(1)\n",
    "        else:\n",
    "            probs_5.append(0)\n",
    "        if 4 in cumpleaños.values():\n",
    "            probs_4.append(1)\n",
    "        else:\n",
    "            probs_4.append(0)\n",
    "        if 3 in cumpleaños.values():\n",
    "            probs_3.append(1)\n",
    "        else:\n",
    "            probs_3.append(0)\n",
    "    cantidad_reunion.append(x)\n",
    "    p3.append(sum(probs_3)/len(probs_3))\n",
    "    p4.append(sum(probs_4)/len(probs_4))\n",
    "    p5.append(sum(probs_5)/len(probs_5))\n",
    "    p6.append(sum(probs_6)/len(probs_6))\n",
    "    \n",
    "    \n",
    "creator = {\"Invitados\" : cantidad_reunion ,\"Probabilidad 3\" : p3,\"Probabilidad 4\" : p4,\"Probabilidad 5\" : p5,\"Probabilidad 6\" : p6 }\n",
    "\n",
    "df_invitados = pd.DataFrame(creator)\n",
    "\n",
    "fig, ax = plt.subplots(figsize=(15,10))\n",
    "\n",
    "plt.xlabel('Invitados')\n",
    "plt.ylabel('Probabilidad')\n",
    "plt.title('Grafico de Invitados vs Probabilidad')\n",
    "\n",
    "ax.plot(df_invitados[\"Invitados\"], df_invitados[\"Probabilidad 3\"], color = \"blue\")\n",
    "\n",
    "ax.plot(df_invitados[\"Invitados\"], df_invitados[\"Probabilidad 4\"] , color = \"red\")\n",
    "\n",
    "ax.plot(df_invitados[\"Invitados\"], df_invitados[\"Probabilidad 5\"] , color = \"yellow\")\n",
    "\n",
    "ax.plot(df_invitados[\"Invitados\"], df_invitados[\"Probabilidad 6\"] , color = \"black\")\n",
    "\n",
    "\n",
    "plt.show()\n",
    "\n"
   ]
  },
  {
   "cell_type": "markdown",
   "metadata": {},
   "source": [
    "* A partir del grafico se puede observar que a medida que se quiere más invitados con un mismo cumpleaños, se necesitan mas personas invitadas para subir la probabilidad de que ese fenomeno ocurra, es decir , la repetición de un cumpleaños depende directamente de cuanta cantidad de gente ha sido invitada a la reunión."
   ]
  },
  {
   "cell_type": "markdown",
   "metadata": {},
   "source": [
    ">e) Debido a una falla espacio-temporal usted ha sido re-ubicado a otra dimensión donde los años tienen 1000 días. Necesita comprar algo para comer y no morir de hambre mientras los científicos de dicho universo lo intentan enviar de vuelta a casa. Usted ha decidido apostar con una persona con la base de la paradoja del cumpleaños. ¿Cuántas personas debería haber en la junta para tener al menos una certeza del 90% de que ganará la apuesta?"
   ]
  },
  {
   "cell_type": "code",
   "execution_count": null,
   "metadata": {},
   "outputs": [],
   "source": [
    "def paradox_1000(n):\n",
    "    \n",
    "    probabilidad_all_differents = 1\n",
    "    \n",
    "    for x in range(0,n):\n",
    "        probabilidad_all_differents = (1000-x)/1000.0 * probabilidad_all_differents \n",
    "    return 1 - probabilidad_all_differents\n",
    "\n",
    "probabilidad = 0\n",
    "while probabilidad<0.9:\n",
    "        n=2\n",
    "        probabilidad = paradox_1000(n)\n",
    "        n+=1\n",
    "print(\"Se necesitan \"+ str(n) \" personas para estar un 90% seguros de ganar la apuesta\")"
   ]
  },
  {
   "cell_type": "markdown",
   "metadata": {},
   "source": [
    ">f) ¿Cuál es la probilidad de que una persona tenga el mismo cumpleaños que usted? (365 días)"
   ]
  },
  {
   "cell_type": "code",
   "execution_count": 21,
   "metadata": {},
   "outputs": [
    {
     "name": "stdout",
     "output_type": "stream",
     "text": [
      "La probabilidad de que una persona tenga el mismo cumpleaños mio en una reunion de 1000 personas es : 0.5004771540365807\n"
     ]
    }
   ],
   "source": [
    "def paradox_propio(n):\n",
    "    return 1 - (364/365.0)**n\n",
    "\n",
    "print(\"La probabilidad de que una persona tenga el mismo cumpleaños mio en una reunion de 1000 personas es : \" + str(paradox_propio(253)))"
   ]
  },
  {
   "cell_type": "markdown",
   "metadata": {},
   "source": [
    "## 2. Redes Complejas\n",
    "\n"
   ]
  },
  {
   "cell_type": "markdown",
   "metadata": {},
   "source": [
    "El tema de Redes Complejas (grafos con muchos nodos) ha estado creciendo últimamente, sus orígenes se remontan a fines de los 90. Una de las propuestas para modelar la construcción de estas redes es la siguiente:\n",
    "\n",
    "1. Se inicia con un solo nodo \n",
    "2. En cada iteración se agrega un nuevo nodo.\n",
    "3. La probabilidad de unirse a un nodo viene dado por la siguiente expresión: $ P(Unirse\\,al\\,nodo_i) = \\frac{Grado\\,Nodo_i}{Grado\\,Total\\,Grafo}$ donde el Grado Total del Grafo corresponde a la suma de los grados de cada nodo perteneciente a este.\n",
    "4. Se repite (2) y (3) varias veces hasta tener una red bastante grande.\n",
    "\n",
    "A este tipo de red se les conoce como \"Scale Free\".\n",
    "\n",
    "Un listado de links para refrescar conceptos: \n",
    "\n",
    "* [Grafo](https://es.wikipedia.org/wiki/Grafo)\n",
    "* [Grado de un nodo](https://es.wikipedia.org/wiki/Grado_(teor%C3%ADa_de_grafos))\n",
    "\n",
    "\n",
    ">a) Simule grafos de: 100, 1000 y 5000 nodos de la forma indicada y haga un scatterplot de Cantidad de Nodos v/s Grado del Nodo para los 3 grafos.\n",
    "\n",
    "* Recuerde que las probabilidades se modifican después de agregar un nodo.\n",
    "* Puede hacer una única iteración de 5000 pasos y guardar el estado de la red en 1000, 5000 y 10000.\n",
    "* La matriz de adyacencia le facilitará el trabajo de obtener el grado de cada nodo (no es necesario hacerla, pero si tiene problemas encontrando alguna estructura de datos, esta le puede servir).\n",
    "\n",
    "Matriz de Adyacencia:\n",
    "\n",
    "Es una matriz cuadrada de $NxN$ donde en la posición $i,j$ hay un 1 si entre los nodos $i$ y $j$ hay una arista, de lo contrario esa entrada es 0. La diagonal en este casó será de 0 solamente.\n",
    "\n",
    "\n"
   ]
  },
  {
   "cell_type": "code",
   "execution_count": null,
   "metadata": {},
   "outputs": [],
   "source": []
  },
  {
   "cell_type": "markdown",
   "metadata": {},
   "source": [
    ">b) Observando los gráficos realizados en a) ¿Qué puede decirse acerca de la distribución de grado?"
   ]
  },
  {
   "cell_type": "code",
   "execution_count": null,
   "metadata": {},
   "outputs": [],
   "source": []
  },
  {
   "cell_type": "markdown",
   "metadata": {},
   "source": [
    ">c) Si se quitan aristas con una probabilidad $\\rho$ ¿Cómo cambia la distribución de grado del grafo de 10000 nodos? Genere gráficos de Cantidad de Nodos v/s Grado del Nodo para distintos valores de $\\rho$ para ayudarle en su respuesta. ¿Sigue siendo de libre escala, pierde forma definida o se asemeja a otra distribución?\n"
   ]
  },
  {
   "cell_type": "code",
   "execution_count": null,
   "metadata": {},
   "outputs": [],
   "source": []
  },
  {
   "cell_type": "markdown",
   "metadata": {},
   "source": [
    "## 3. Artistas Musicales\n",
    "\n",
    "En esta sección usted cuenta con dos datasets \"albums.csv\" y \"artists.csv\", el primero cuenta con información de álbums musicales lanzados por diversos artistas como el número de ventas, el estilo musical, puntajes según distintos críticos, etc. El segundo contiene datos sobre diversos artistas, como su nombre, puesto en la banda, pais de origen, etc. \n",
    "\n",
    "Para información más detallada de los datasets [aquí](https://www.kaggle.com/revilrosa/music-label-dataset#artists.csv)"
   ]
  },
  {
   "cell_type": "markdown",
   "metadata": {},
   "source": [
    ">a) Cargue ambos dataset, cuente la cantidad de celdas nulas por columna en c/u y limpielas si cree necesario. "
   ]
  },
  {
   "cell_type": "code",
   "execution_count": null,
   "metadata": {},
   "outputs": [],
   "source": []
  },
  {
   "cell_type": "markdown",
   "metadata": {},
   "source": [
    ">b) Responda las siguientes preguntas utilizando recursos visuales (tablas, gráficos). \n",
    "\n",
    "* Haga un top 10 de los mejores álbumes para cada crítico\n",
    "* En función del puntaje promedio, ordene los géneros musicales de mejor ranking a peor.\n",
    "* Top 5 de países con álbumes mejor calificados.\n",
    "* Top 10 de artistas con más albumes publicados.\n",
    "* ¿Qué generos predominan en los artistas Chilenos?\n",
    "* Separando a los artistas en los que nacieron antes de 1980 y de 1980 en adelante. Si consideramos los años 2005, 2010, 2015 y 2019 ¿cómo han ido evolucionando los puntajes promedio de ambos grupos con el paso del tiempo? ¿Es posible evidenciar alguna tendencia?\n",
    "* Haga una línea del tiempo donde en cada año se indique los 3 géneros con más álbumes publicados* ¿Se evidencia alguna tendencia? Haga la misma línea de tiempo para algún páis en específico de su elección y compare, si en algún año no hubo publicación deje la casilla marcada con \"-\".\n",
    "\n",
    "Para la línea del tiempo se sugiere un formato como el siguiente: \n",
    "\n",
    "| 2000 | 2001 | 2002 | 2003 | 2004 |\n",
    "|------|------|------|------|------|\n",
    "| 1°   | 1°   | 1°   | 1°   | 1°   |\n",
    "| 2°   | 2°   | 2°   | 2°   | 2°   |\n",
    "| 3°   | 3°   | 3°   | -   | 3°   |\n",
    "\n",
    "* ¿Hay alguna diferencia en los géneros que artistas Chilenos, Argentinos, Peruanos y Bolivianos publicaban?"
   ]
  },
  {
   "cell_type": "code",
   "execution_count": null,
   "metadata": {},
   "outputs": [],
   "source": []
  },
  {
   "cell_type": "markdown",
   "metadata": {},
   "source": [
    ">c) Utilizando el siguiente subconjunto de países: \"United States\", \"Chile\", \"Japan\", ¿es el país un buen predictor del puntaje promedio? ¿Y viceversa? Responda utilizando criterios de probabilidad condicional y considere los intervalos del puntaje promedio en los percentiles: $[0,33],[34,66],[67,100]$. ¿Importa si se utiliza solo el subconjunto de datos o el dataset entero? \n",
    "\n",
    "\n",
    "**Bonus +10** El país como predictor del puntaje en cada crítico y viceversa."
   ]
  },
  {
   "cell_type": "code",
   "execution_count": null,
   "metadata": {},
   "outputs": [],
   "source": []
  },
  {
   "cell_type": "markdown",
   "metadata": {},
   "source": [
    ">d) ¿Se puede decir que el género de un álbum es buen predictor del número de ventas? ¿Y viceversa? Responda utilizando criterios de probabilidad condicional. \n",
    "\n",
    "Fije los intervalos de las ventas en los cuartiles "
   ]
  },
  {
   "cell_type": "code",
   "execution_count": null,
   "metadata": {},
   "outputs": [],
   "source": []
  },
  {
   "cell_type": "markdown",
   "metadata": {},
   "source": [
    "## Reglas del Juego y Comentarios \n",
    "\n",
    "+ Errores ortográficos, de redacción y oraciones ambiguas descontarán parte de su puntaje.\n",
    "+ Las dudas deberán ser publicadas en moodle para que sus compañeros puedan beneficiarse de la respuesta, no se aceptarán dudas vía correo ni redes sociales, esto es para fomentar que todos tengan la misma información.\n",
    "+ Cada día de atraso descuenta 25 puntos de la nota final con un máximo de dos días de retraso (después es 0).\n",
    "+ La versión de R que se usará para revisar es 3.6.1\n",
    "+ La versión de Python que se usará para revisar es 3.6.8\n",
    "+ Use cualquier librería que estime conveniente, si requiere de instalación explicitarlo en el README (y bien explicitado).\n",
    "+ Código comentado para facilitar entendimiento.\n",
    "+ Sea formal y claro con su respuesta, **explique su procedimiento y luego responda.** \n",
    "+ Defina bien las secciones de su notebook, el orden siempre es bueno :) [Tips para usar Markdown](https://github.com/adam-p/markdown-here/wiki/Markdown-Cheatsheet)"
   ]
  }
 ],
 "metadata": {
  "kernelspec": {
   "display_name": "Python 3",
   "language": "python",
   "name": "python3"
  },
  "language_info": {
   "codemirror_mode": {
    "name": "ipython",
    "version": 3
   },
   "file_extension": ".py",
   "mimetype": "text/x-python",
   "name": "python",
   "nbconvert_exporter": "python",
   "pygments_lexer": "ipython3",
   "version": "3.7.4"
  }
 },
 "nbformat": 4,
 "nbformat_minor": 2
}
